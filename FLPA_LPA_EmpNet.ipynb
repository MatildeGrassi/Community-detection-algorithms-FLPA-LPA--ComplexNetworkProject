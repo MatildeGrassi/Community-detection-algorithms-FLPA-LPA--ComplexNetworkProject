{
 "cells": [
  {
   "cell_type": "code",
   "execution_count": 4,
   "id": "170c32c5-03e4-4900-8cdb-a42104fc3f62",
   "metadata": {},
   "outputs": [
    {
     "name": "stdout",
     "output_type": "stream",
     "text": [
      "Grafo com-dblp salvato con 425957 nodi e 1049866 edges.\n"
     ]
    },
    {
     "name": "stderr",
     "output_type": "stream",
     "text": [
      "Computing: 100%|████████████████████████████████████████████████████████████████████████| 1/1 [03:48<00:00, 228.71s/it]\n"
     ]
    },
    {
     "name": "stdout",
     "output_type": "stream",
     "text": [
      "Computational time for FLPA: 35.0517 seconds +- 0.0.\n",
      "Modularity for FLPA: 0.6670256780917931\n",
      "Computational time for ASYN. LPA: 122.3158 seconds +- 0.0.\n",
      "Modularity for ASYN. LPA: 0.624232899445513\n",
      "Computational time for SYN. LPA: 60.1108 seconds +- 0.0.\n",
      "Modularity for FLPA: 0.6499232243522098\n",
      "Grafo academia_edu salvato con 200169 nodi e 1022883 edges.\n"
     ]
    },
    {
     "name": "stderr",
     "output_type": "stream",
     "text": [
      "Computing: 100%|████████████████████████████████████████████████████████████████████████| 1/1 [01:51<00:00, 111.07s/it]\n"
     ]
    },
    {
     "name": "stdout",
     "output_type": "stream",
     "text": [
      "Computational time for FLPA: 13.9452 seconds +- 0.0.\n",
      "Modularity for FLPA: 0.24593950587478172\n",
      "Computational time for ASYN. LPA: 50.2034 seconds +- 0.0.\n",
      "Modularity for ASYN. LPA: 0.2758607123885681\n",
      "Computational time for SYN. LPA: 38.5786 seconds +- 0.0.\n",
      "Modularity for FLPA: 0.26235306739003594\n",
      "Grafo dpedia_country salvato con 592414 nodi e 637134 edges.\n"
     ]
    },
    {
     "name": "stderr",
     "output_type": "stream",
     "text": [
      "Computing: 100%|████████████████████████████████████████████████████████████████████████| 1/1 [02:01<00:00, 121.68s/it]\n"
     ]
    },
    {
     "name": "stdout",
     "output_type": "stream",
     "text": [
      "Computational time for FLPA: 66.947 seconds +- 0.0.\n",
      "Modularity for FLPA: 0.8932760966146372\n",
      "Computational time for ASYN. LPA: 16.2958 seconds +- 0.0.\n",
      "Modularity for ASYN. LPA: 0.8952738748589515\n",
      "Computational time for SYN. LPA: 24.6211 seconds +- 0.0.\n",
      "Modularity for FLPA: 0.9028847175557023\n",
      "Grafo twitter salvato con 465017 nodi e 833540 edges.\n"
     ]
    },
    {
     "name": "stderr",
     "output_type": "stream",
     "text": [
      "Computing: 100%|████████████████████████████████████████████████████████████████████████| 1/1 [01:54<00:00, 114.87s/it]\n"
     ]
    },
    {
     "name": "stdout",
     "output_type": "stream",
     "text": [
      "Computational time for FLPA: 37.8987 seconds +- 0.0.\n",
      "Modularity for FLPA: 0.5735997427056594\n",
      "Computational time for ASYN. LPA: 22.3816 seconds +- 0.0.\n",
      "Modularity for ASYN. LPA: 0.5729412443881252\n",
      "Computational time for SYN. LPA: 46.5127 seconds +- 0.0.\n",
      "Modularity for FLPA: 0.6352475244893496\n",
      "Grafo google_plus salvato con 211187 nodi e 1143411 edges.\n"
     ]
    },
    {
     "name": "stderr",
     "output_type": "stream",
     "text": [
      "Computing: 100%|█████████████████████████████████████████████████████████████████████████| 1/1 [01:19<00:00, 79.58s/it]\n"
     ]
    },
    {
     "name": "stdout",
     "output_type": "stream",
     "text": [
      "Computational time for FLPA: 9.2747 seconds +- 0.0.\n",
      "Modularity for FLPA: 0.80555149828958\n",
      "Computational time for ASYN. LPA: 26.2506 seconds +- 0.0.\n",
      "Modularity for ASYN. LPA: 0.7806905306010498\n",
      "Computational time for SYN. LPA: 36.9867 seconds +- 0.0.\n",
      "Modularity for FLPA: 0.7787685743830386\n",
      "Grafo marvel_universe salvato con 19428 nodi e 95497 edges.\n"
     ]
    },
    {
     "name": "stderr",
     "output_type": "stream",
     "text": [
      "Computing: 100%|█████████████████████████████████████████████████████████████████████████| 1/1 [00:05<00:00,  5.15s/it]\n"
     ]
    },
    {
     "name": "stdout",
     "output_type": "stream",
     "text": [
      "Computational time for FLPA: 0.5839 seconds +- 0.0.\n",
      "Modularity for FLPA: 0.6525075287345629\n",
      "Computational time for ASYN. LPA: 1.9152 seconds +- 0.0.\n",
      "Modularity for ASYN. LPA: 0.6335120836843664\n",
      "Computational time for SYN. LPA: 2.1275 seconds +- 0.0.\n",
      "Modularity for FLPA: 0.6490045262194\n",
      "Grafo pgp_strong salvato con 39796 nodi e 197150 edges.\n"
     ]
    },
    {
     "name": "stderr",
     "output_type": "stream",
     "text": [
      "Computing: 100%|█████████████████████████████████████████████████████████████████████████| 1/1 [00:11<00:00, 11.82s/it]\n"
     ]
    },
    {
     "name": "stdout",
     "output_type": "stream",
     "text": [
      "Computational time for FLPA: 1.0801 seconds +- 0.0.\n",
      "Modularity for FLPA: 0.69424003721816\n",
      "Computational time for ASYN. LPA: 4.777 seconds +- 0.0.\n",
      "Modularity for ASYN. LPA: 0.6904390800198801\n",
      "Computational time for SYN. LPA: 4.8388 seconds +- 0.0.\n",
      "Modularity for FLPA: 0.7082522738138433\n",
      "Grafo epinions_trust salvato con 75888 nodi e 405740 edges.\n"
     ]
    },
    {
     "name": "stderr",
     "output_type": "stream",
     "text": [
      "Computing: 100%|█████████████████████████████████████████████████████████████████████████| 1/1 [00:18<00:00, 18.85s/it]\n"
     ]
    },
    {
     "name": "stdout",
     "output_type": "stream",
     "text": [
      "Computational time for FLPA: 1.6658 seconds +- 0.0.\n",
      "Modularity for FLPA: 0.057638441699343027\n",
      "Computational time for ASYN. LPA: 7.0505 seconds +- 0.0.\n",
      "Modularity for ASYN. LPA: 0.07236737984844774\n",
      "Computational time for SYN. LPA: 7.5702 seconds +- 0.0.\n",
      "Modularity for FLPA: 0.07555877106320176\n",
      "Grafo roadnet-PA salvato con 1090920 nodi e 3083796 edges.\n"
     ]
    },
    {
     "name": "stderr",
     "output_type": "stream",
     "text": [
      "Computing: 100%|████████████████████████████████████████████████████████████████████████| 1/1 [08:51<00:00, 531.97s/it]"
     ]
    },
    {
     "name": "stdout",
     "output_type": "stream",
     "text": [
      "Computational time for FLPA: 275.489 seconds +- 0.0.\n",
      "Modularity for FLPA: 0.7009948632271685\n",
      "Computational time for ASYN. LPA: 101.3454 seconds +- 0.0.\n",
      "Modularity for ASYN. LPA: 0.5515234077195087\n",
      "Computational time for SYN. LPA: 117.9548 seconds +- 0.0.\n",
      "Modularity for FLPA: 0.5648461353597113\n"
     ]
    },
    {
     "name": "stderr",
     "output_type": "stream",
     "text": [
      "\n"
     ]
    }
   ],
   "source": [
    "#Computing the computational time and modularity for 6 large empirical networks \n",
    "#of LPA Syn., LPA Asyn., FLPA\n",
    "\n",
    "import networkx as nx\n",
    "import timeit\n",
    "from tqdm import tqdm\n",
    "import numpy as np\n",
    "\n",
    "#Networks to analyse\n",
    "files_path = ['com-dblp','academia_edu','google_plus','marvel_universe','pgp_strong','epinions_trust']\n",
    "\n",
    "for file_path in files_path:\n",
    "    #Saving the graph from the graphml file\n",
    "    G_d = nx.read_graphml('EmpNet/'+file_path+'.graphml') \n",
    "    G = G_d.to_undirected()\n",
    "\n",
    "    #Printing parameters of the network\n",
    "    print(f\"Grafo {file_path} salvato con {G.number_of_nodes()} nodi e {G.number_of_edges()} edges.\")\n",
    "\n",
    "    #Initializing the variables\n",
    "    t_iterations_lpa_asyn=[]\n",
    "    t_iterations_lpa_syn=[]\n",
    "    t_iterations_flpa=[]\n",
    "    mod_flpa=[]\n",
    "    mod_lpa_syn=[]\n",
    "    mod_lpa_asyn=[]\n",
    "\n",
    "    for i in tqdm(range(20), desc=\"Computing\"):\n",
    "        #Cumputing time and modularity for each algorithm\n",
    "        start_time = timeit.default_timer() \n",
    "        communities_flpa=list(nx.community.fast_label_propagation_communities(G))\n",
    "        end_time = timeit.default_timer() \n",
    "        t_iteration = end_time - start_time\n",
    "        t_iterations_flpa.append(t_iteration)\n",
    "        mod_flpa.append(nx.community.modularity(G,communities_flpa))\n",
    "        \n",
    "        start_time = timeit.default_timer() \n",
    "        communities_lpa_asyn = list(nx.community.asyn_lpa_communities(G))\n",
    "        end_time = timeit.default_timer() \n",
    "        tempo_iterazione = end_time - start_time  \n",
    "        t_iterations_lpa_asyn.append(tempo_iterazione)\n",
    "        mod_lpa_asyn.append(nx.community.modularity(G,communities_lpa_asyn))\n",
    "\n",
    "        start_time = timeit.default_timer() \n",
    "        communities_lpa_syn = list(nx.community.label_propagation_communities(G))\n",
    "        end_time = timeit.default_timer()\n",
    "        tempo_iterazione = end_time - start_time \n",
    "        t_iterations_lpa_syn.append(tempo_iterazione)\n",
    "        mod_lpa_syn.append(nx.community.modularity(G,communities_lpa_syn))\n",
    "        \n",
    "    #Printing the results\n",
    "    medium_t_flpa=np.mean(t_iterations_flpa)\n",
    "    std_t_flpa=np.std(t_iterations_flpa) \n",
    "    print(f\"Computational time for FLPA: {round(medium_t_flpa, 4)} seconds +- {round(std_t_flpa, 4)}.\")\n",
    "    print(f\"Modularity for FLPA: {np.mean(mod_flpa)}\")\n",
    "\n",
    "    medium_t_lpa_asyn=(np.mean(t_iterations_lpa_asyn))\n",
    "    std_t_lpa_asyn=(np.std(t_iterations_lpa_asyn))\n",
    "    print(f\"Computational time for ASYN. LPA: {round(medium_t_lpa_asyn, 4)} seconds +- {round(std_t_lpa_asyn, 4)}.\")\n",
    "    print(f\"Modularity for ASYN. LPA: {np.mean(mod_lpa_asyn)}\")\n",
    "\n",
    "    medium_t_lpa_syn=(np.mean(t_iterations_lpa_syn))\n",
    "    std_t_lpa_syn=(np.std(t_iterations_lpa_syn))\n",
    "    print(f\"Computational time for SYN. LPA: {round(medium_t_lpa_syn, 4)} seconds +- {round(std_t_lpa_syn, 4)}.\")\n",
    "    print(f\"Modularity for SYN. LPA: {np.mean(mod_lpa_syn)}\")\n",
    "    print(\"-\"*50)"
   ]
  },
  {
   "cell_type": "code",
   "execution_count": null,
   "id": "8fd9d9d7-028a-4971-8cec-1fb41ed5a201",
   "metadata": {},
   "outputs": [],
   "source": []
  }
 ],
 "metadata": {
  "kernelspec": {
   "display_name": "Python 3 (ipykernel)",
   "language": "python",
   "name": "python3"
  },
  "language_info": {
   "codemirror_mode": {
    "name": "ipython",
    "version": 3
   },
   "file_extension": ".py",
   "mimetype": "text/x-python",
   "name": "python",
   "nbconvert_exporter": "python",
   "pygments_lexer": "ipython3",
   "version": "3.12.3"
  }
 },
 "nbformat": 4,
 "nbformat_minor": 5
}
