{
 "cells": [
  {
   "cell_type": "code",
   "execution_count": 1,
   "id": "36ddf6e6-3060-4413-93ba-dc72f25935fd",
   "metadata": {},
   "outputs": [
    {
     "name": "stdout",
     "output_type": "stream",
     "text": [
      "0\n",
      "Nodi: 10000, Collegamenti: 49975, Grado Medio: 10\n"
     ]
    },
    {
     "name": "stderr",
     "output_type": "stream",
     "text": [
      "Computing: 100%|███████████████████████████████████████████████████████████████████████| 20/20 [00:31<00:00,  1.58s/it]\n"
     ]
    },
    {
     "name": "stdout",
     "output_type": "stream",
     "text": [
      "Average time for flpa: 0.4955 seconds +- 0.1291.\n",
      "Average time for asyn. lpa: 0.4519 seconds +- 0.1094.\n",
      "Average time for syn. lpa: 0.631 seconds +- 0.0233.\n",
      "1\n",
      "Nodi: 10000, Collegamenti: 99900, Grado Medio: 20\n"
     ]
    },
    {
     "name": "stderr",
     "output_type": "stream",
     "text": [
      "Computing: 100%|███████████████████████████████████████████████████████████████████████| 20/20 [00:23<00:00,  1.18s/it]\n"
     ]
    },
    {
     "name": "stdout",
     "output_type": "stream",
     "text": [
      "Average time for flpa: 0.2758 seconds +- 0.0493.\n",
      "Average time for asyn. lpa: 0.3805 seconds +- 0.0576.\n",
      "Average time for syn. lpa: 0.528 seconds +- 0.0202.\n",
      "2\n",
      "Nodi: 10000, Collegamenti: 149775, Grado Medio: 30\n"
     ]
    },
    {
     "name": "stderr",
     "output_type": "stream",
     "text": [
      "Computing: 100%|███████████████████████████████████████████████████████████████████████| 20/20 [00:20<00:00,  1.02s/it]\n"
     ]
    },
    {
     "name": "stdout",
     "output_type": "stream",
     "text": [
      "Average time for flpa: 0.2619 seconds +- 0.0269.\n",
      "Average time for asyn. lpa: 0.3257 seconds +- 0.0381.\n",
      "Average time for syn. lpa: 0.4344 seconds +- 0.0179.\n",
      "3\n",
      "Nodi: 10000, Collegamenti: 199600, Grado Medio: 40\n"
     ]
    },
    {
     "name": "stderr",
     "output_type": "stream",
     "text": [
      "Computing: 100%|███████████████████████████████████████████████████████████████████████| 20/20 [00:24<00:00,  1.21s/it]\n"
     ]
    },
    {
     "name": "stdout",
     "output_type": "stream",
     "text": [
      "Average time for flpa: 0.2895 seconds +- 0.0613.\n",
      "Average time for asyn. lpa: 0.3727 seconds +- 0.0489.\n",
      "Average time for syn. lpa: 0.5488 seconds +- 0.1151.\n",
      "4\n",
      "Nodi: 10000, Collegamenti: 249375, Grado Medio: 50\n"
     ]
    },
    {
     "name": "stderr",
     "output_type": "stream",
     "text": [
      "Computing: 100%|███████████████████████████████████████████████████████████████████████| 20/20 [00:25<00:00,  1.27s/it]\n"
     ]
    },
    {
     "name": "stdout",
     "output_type": "stream",
     "text": [
      "Average time for flpa: 0.3045 seconds +- 0.015.\n",
      "Average time for asyn. lpa: 0.3829 seconds +- 0.0094.\n",
      "Average time for syn. lpa: 0.5771 seconds +- 0.0218.\n",
      "5\n",
      "Nodi: 10000, Collegamenti: 299100, Grado Medio: 60\n"
     ]
    },
    {
     "name": "stderr",
     "output_type": "stream",
     "text": [
      "Computing: 100%|███████████████████████████████████████████████████████████████████████| 20/20 [00:27<00:00,  1.39s/it]\n"
     ]
    },
    {
     "name": "stdout",
     "output_type": "stream",
     "text": [
      "Average time for flpa: 0.3298 seconds +- 0.0223.\n",
      "Average time for asyn. lpa: 0.4219 seconds +- 0.0158.\n",
      "Average time for syn. lpa: 0.6336 seconds +- 0.0207.\n",
      "6\n",
      "Nodi: 10000, Collegamenti: 348775, Grado Medio: 70\n"
     ]
    },
    {
     "name": "stderr",
     "output_type": "stream",
     "text": [
      "Computing: 100%|███████████████████████████████████████████████████████████████████████| 20/20 [00:36<00:00,  1.84s/it]\n"
     ]
    },
    {
     "name": "stdout",
     "output_type": "stream",
     "text": [
      "Average time for flpa: 0.3361 seconds +- 0.0163.\n",
      "Average time for asyn. lpa: 0.4495 seconds +- 0.0093.\n",
      "Average time for syn. lpa: 1.0499 seconds +- 0.0404.\n",
      "7\n",
      "Nodi: 10000, Collegamenti: 398400, Grado Medio: 80\n"
     ]
    },
    {
     "name": "stderr",
     "output_type": "stream",
     "text": [
      "Computing: 100%|███████████████████████████████████████████████████████████████████████| 20/20 [00:33<00:00,  1.65s/it]\n"
     ]
    },
    {
     "name": "stdout",
     "output_type": "stream",
     "text": [
      "Average time for flpa: 0.381 seconds +- 0.0237.\n",
      "Average time for asyn. lpa: 0.4985 seconds +- 0.0204.\n",
      "Average time for syn. lpa: 0.7696 seconds +- 0.0305.\n",
      "8\n",
      "Nodi: 10000, Collegamenti: 447975, Grado Medio: 90\n"
     ]
    },
    {
     "name": "stderr",
     "output_type": "stream",
     "text": [
      "Computing: 100%|███████████████████████████████████████████████████████████████████████| 20/20 [00:35<00:00,  1.78s/it]\n"
     ]
    },
    {
     "name": "stdout",
     "output_type": "stream",
     "text": [
      "Average time for flpa: 0.4094 seconds +- 0.0297.\n",
      "Average time for asyn. lpa: 0.5297 seconds +- 0.0121.\n",
      "Average time for syn. lpa: 0.8402 seconds +- 0.0258.\n",
      "9\n",
      "Nodi: 10000, Collegamenti: 497500, Grado Medio: 100\n"
     ]
    },
    {
     "name": "stderr",
     "output_type": "stream",
     "text": [
      "Computing: 100%|███████████████████████████████████████████████████████████████████████| 20/20 [00:38<00:00,  1.90s/it]\n"
     ]
    },
    {
     "name": "stdout",
     "output_type": "stream",
     "text": [
      "Average time for flpa: 0.4269 seconds +- 0.021.\n",
      "Average time for asyn. lpa: 0.562 seconds +- 0.0101.\n",
      "Average time for syn. lpa: 0.9134 seconds +- 0.0272.\n",
      "10\n",
      "Nodi: 10000, Collegamenti: 546975, Grado Medio: 110\n"
     ]
    },
    {
     "name": "stderr",
     "output_type": "stream",
     "text": [
      "Computing: 100%|███████████████████████████████████████████████████████████████████████| 20/20 [00:40<00:00,  2.03s/it]\n"
     ]
    },
    {
     "name": "stdout",
     "output_type": "stream",
     "text": [
      "Average time for flpa: 0.4448 seconds +- 0.0176.\n",
      "Average time for asyn. lpa: 0.5978 seconds +- 0.0087.\n",
      "Average time for syn. lpa: 0.982 seconds +- 0.0247.\n",
      "11\n",
      "Nodi: 10000, Collegamenti: 596400, Grado Medio: 120\n"
     ]
    },
    {
     "name": "stderr",
     "output_type": "stream",
     "text": [
      "Computing: 100%|███████████████████████████████████████████████████████████████████████| 20/20 [00:43<00:00,  2.15s/it]\n"
     ]
    },
    {
     "name": "stdout",
     "output_type": "stream",
     "text": [
      "Average time for flpa: 0.4736 seconds +- 0.0146.\n",
      "Average time for asyn. lpa: 0.6371 seconds +- 0.0102.\n",
      "Average time for syn. lpa: 1.0418 seconds +- 0.0337.\n",
      "12\n",
      "Nodi: 10000, Collegamenti: 645775, Grado Medio: 130\n"
     ]
    },
    {
     "name": "stderr",
     "output_type": "stream",
     "text": [
      "Computing: 100%|███████████████████████████████████████████████████████████████████████| 20/20 [00:46<00:00,  2.31s/it]\n"
     ]
    },
    {
     "name": "stdout",
     "output_type": "stream",
     "text": [
      "Average time for flpa: 0.5067 seconds +- 0.0171.\n",
      "Average time for asyn. lpa: 0.6713 seconds +- 0.0121.\n",
      "Average time for syn. lpa: 1.1274 seconds +- 0.0426.\n",
      "13\n",
      "Nodi: 10000, Collegamenti: 695100, Grado Medio: 140\n"
     ]
    },
    {
     "name": "stderr",
     "output_type": "stream",
     "text": [
      "Computing: 100%|███████████████████████████████████████████████████████████████████████| 20/20 [00:49<00:00,  2.47s/it]\n"
     ]
    },
    {
     "name": "stdout",
     "output_type": "stream",
     "text": [
      "Average time for flpa: 0.5416 seconds +- 0.0182.\n",
      "Average time for asyn. lpa: 0.7211 seconds +- 0.0168.\n",
      "Average time for syn. lpa: 1.2018 seconds +- 0.0492.\n"
     ]
    },
    {
     "data": {
      "image/png": "[encoded data removed]",
      "text/plain": [
       "<Figure size 640x480 with 1 Axes>"
      ]
     },
     "metadata": {},
     "output_type": "display_data"
    }
   ],
   "source": [
    "#Plotting the computing times for the LPA asyn., LPA syn., FLPA on a BA synthetic network\n",
    "#with fixed number of nodes and increasing average degree\n",
    "\n",
    "import networkx as nx\n",
    "import matplotlib.pyplot as plt\n",
    "import timeit\n",
    "from tqdm import tqdm\n",
    "import numpy as np\n",
    "\n",
    "#Parameters\n",
    "node_sizes = 10000\n",
    "avg_degree = [10,20,30,40,50,60,70,80,90,100,110,120,130,140]\n",
    "\n",
    "#Initializing the variables \n",
    "medium_t_flpa=[]\n",
    "medium_t_lpa_asyn=[]\n",
    "medium_t_lpa_syn=[]\n",
    "std_t_flpa=[]\n",
    "std_t_lpa_asyn=[]\n",
    "std_t_lpa_syn=[]\n",
    "j=0\n",
    "for n in avg_degree:\n",
    "    t_iterations_lpa_asyn=[]\n",
    "    t_iterations_lpa_syn=[]\n",
    "    t_iterations_flpa=[]\n",
    "    \n",
    "    #Generating the synthetic BA network\n",
    "    m = n // 2\n",
    "    G = nx.barabasi_albert_graph(node_sizes, m) \n",
    "    #Printing parameters of the created network\n",
    "    print(f\"Nodes: {node_sizes}, Edges: {G.number_of_edges()}, Average degree: {n}\") \n",
    "    \n",
    "    for i in tqdm(range(20), desc=\"Computing\"):\n",
    "        #Computing time for FLPA\n",
    "        start_time = timeit.default_timer() \n",
    "        communities_flpa=list(nx.community.fast_label_propagation_communities(G))\n",
    "        end_time = timeit.default_timer() \n",
    "        t_iteration = end_time - start_time\n",
    "        t_iterations_flpa.append(t_iteration)\n",
    "\n",
    "        #Computing time for asyn. LPA\n",
    "        start_time = timeit.default_timer() \n",
    "        communities_lpa_asyn = list(nx.community.asyn_lpa_communities(G))\n",
    "        end_time = timeit.default_timer() \n",
    "        tempo_iterazione = end_time - start_time  \n",
    "        t_iterations_lpa_asyn.append(tempo_iterazione)\n",
    "\n",
    "        #Computing time for syn. LPA\n",
    "        start_time = timeit.default_timer() \n",
    "        communities_lpa_syn = list(nx.community.label_propagation_communities(G))\n",
    "        end_time = timeit.default_timer() \n",
    "        tempo_iterazione = end_time - start_time  \n",
    "        t_iterations_lpa_syn.append(tempo_iterazione)\n",
    "\n",
    "    #Computing average and standard deviation \n",
    "    medium_t_flpa.append(np.mean(t_iterations_flpa))\n",
    "    std_t_flpa.append(np.std(t_iterations_flpa))\n",
    "    print(f\"Average time for flpa: {round(medium_t_flpa[j], 4)} seconds +- {round(std_t_flpa[j], 4)}.\")\n",
    "\n",
    "    medium_t_lpa_asyn.append(np.mean(t_iterations_lpa_asyn))\n",
    "    std_t_lpa_asyn.append(np.std(t_iterations_lpa_asyn))\n",
    "    print(f\"Average time for asyn. lpa: {round(medium_t_lpa_asyn[j], 4)} seconds +- {round(std_t_lpa_asyn[j], 4)}.\")\n",
    "\n",
    "    medium_t_lpa_syn.append(np.mean(t_iterations_lpa_syn))\n",
    "    std_t_lpa_syn.append(np.std(t_iterations_lpa_syn))\n",
    "    print(f\"Average time for syn. lpa: {round(medium_t_lpa_syn[j], 4)} seconds +- {round(std_t_lpa_syn[j], 4)}.\")\n",
    "    \n",
    "    j=j+1\n",
    "\n",
    "#Plotting the results\n",
    "plt.scatter(avg_degree, medium_t_flpa,color='blue', label='FLPA',s=10)\n",
    "plt.errorbar(avg_degree, medium_t_flpa,yerr=std_t_flpa,color='blue')\n",
    "plt.scatter(avg_degree, medium_t_lpa_asyn,color='red', label='Asyn. LPA',s=10)\n",
    "plt.errorbar(avg_degree, medium_t_lpa_asyn,yerr=std_t_lpa_asyn,color='red')\n",
    "plt.scatter(avg_degree, medium_t_lpa_syn,color='green', label='Syn. LPA', s=10)\n",
    "plt.errorbar(avg_degree, medium_t_lpa_syn,yerr=std_t_lpa_syn,color='green')\n",
    "\n",
    "plt.xlabel('average degree <k>')\n",
    "plt.ylabel('time (s)')\n",
    "plt.title(f'Barabasi-Albert with {node_sizes} nodes')\n",
    "plt.legend()\n",
    "plt.savefig(\"BA-graph.png\")\n",
    "plt.show()\n",
    "    "
   ]
  },
  {
   "cell_type": "code",
   "execution_count": null,
   "id": "6994c046-966b-4519-a902-94bd5a45e229",
   "metadata": {},
   "outputs": [],
   "source": []
  }
 ],
 "metadata": {
  "kernelspec": {
   "display_name": "Python 3 (ipykernel)",
   "language": "python",
   "name": "python3"
  },
  "language_info": {
   "codemirror_mode": {
    "name": "ipython",
    "version": 3
   },
   "file_extension": ".py",
   "mimetype": "text/x-python",
   "name": "python",
   "nbconvert_exporter": "python",
   "pygments_lexer": "ipython3",
   "version": "3.12.3"
  }
 },
 "nbformat": 4,
 "nbformat_minor": 5
}
