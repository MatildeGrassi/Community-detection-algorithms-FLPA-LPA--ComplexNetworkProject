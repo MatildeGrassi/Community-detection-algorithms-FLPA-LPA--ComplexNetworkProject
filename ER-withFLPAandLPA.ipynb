{
 "cells": [
  {
   "cell_type": "code",
   "execution_count": 2,
   "id": "f80edc14-4223-475f-82ba-86ae26513c6c",
   "metadata": {},
   "outputs": [
    {
     "name": "stdout",
     "output_type": "stream",
     "text": [
      "0\n",
      "Nodi: 10000, Collegamenti: 50385, Grado Medio: 10\n"
     ]
    },
    {
     "name": "stderr",
     "output_type": "stream",
     "text": [
      "Computing: 100%|███████████████████████████████████████████████████████████████████████| 20/20 [00:55<00:00,  2.77s/it]\n"
     ]
    },
    {
     "name": "stdout",
     "output_type": "stream",
     "text": [
      "Average time for flpa: 1.3342 seconds +- 0.2012.\n",
      "Average time for asyn. lpa: 0.3928 seconds +- 0.0755.\n",
      "Average time for syn. lpa: 1.0412 seconds +- 0.1164.\n",
      "1\n",
      "Nodi: 10000, Collegamenti: 99952, Grado Medio: 20\n"
     ]
    },
    {
     "name": "stderr",
     "output_type": "stream",
     "text": [
      "Computing: 100%|███████████████████████████████████████████████████████████████████████| 20/20 [00:45<00:00,  2.29s/it]\n"
     ]
    },
    {
     "name": "stdout",
     "output_type": "stream",
     "text": [
      "Average time for flpa: 0.8224 seconds +- 0.0984.\n",
      "Average time for asyn. lpa: 0.704 seconds +- 0.1085.\n",
      "Average time for syn. lpa: 0.7618 seconds +- 0.0371.\n",
      "2\n",
      "Nodi: 10000, Collegamenti: 149364, Grado Medio: 30\n"
     ]
    },
    {
     "name": "stderr",
     "output_type": "stream",
     "text": [
      "Computing: 100%|███████████████████████████████████████████████████████████████████████| 20/20 [00:49<00:00,  2.48s/it]\n"
     ]
    },
    {
     "name": "stdout",
     "output_type": "stream",
     "text": [
      "Average time for flpa: 0.8033 seconds +- 0.129.\n",
      "Average time for asyn. lpa: 1.0154 seconds +- 0.1916.\n",
      "Average time for syn. lpa: 0.6609 seconds +- 0.0625.\n",
      "3\n",
      "Nodi: 10000, Collegamenti: 199790, Grado Medio: 40\n"
     ]
    },
    {
     "name": "stderr",
     "output_type": "stream",
     "text": [
      "Computing: 100%|███████████████████████████████████████████████████████████████████████| 20/20 [00:47<00:00,  2.38s/it]\n"
     ]
    },
    {
     "name": "stdout",
     "output_type": "stream",
     "text": [
      "Average time for flpa: 0.8164 seconds +- 0.104.\n",
      "Average time for asyn. lpa: 0.8903 seconds +- 0.098.\n",
      "Average time for syn. lpa: 0.6672 seconds +- 0.0766.\n",
      "4\n",
      "Nodi: 10000, Collegamenti: 250106, Grado Medio: 50\n"
     ]
    },
    {
     "name": "stderr",
     "output_type": "stream",
     "text": [
      "Computing: 100%|███████████████████████████████████████████████████████████████████████| 20/20 [00:44<00:00,  2.24s/it]\n"
     ]
    },
    {
     "name": "stdout",
     "output_type": "stream",
     "text": [
      "Average time for flpa: 0.7438 seconds +- 0.0999.\n",
      "Average time for asyn. lpa: 0.7746 seconds +- 0.0704.\n",
      "Average time for syn. lpa: 0.7198 seconds +- 0.0738.\n",
      "5\n",
      "Nodi: 10000, Collegamenti: 299954, Grado Medio: 60\n"
     ]
    },
    {
     "name": "stderr",
     "output_type": "stream",
     "text": [
      "Computing: 100%|███████████████████████████████████████████████████████████████████████| 20/20 [00:54<00:00,  2.75s/it]\n"
     ]
    },
    {
     "name": "stdout",
     "output_type": "stream",
     "text": [
      "Average time for flpa: 0.761 seconds +- 0.0704.\n",
      "Average time for asyn. lpa: 0.824 seconds +- 0.1143.\n",
      "Average time for syn. lpa: 1.1601 seconds +- 0.1.\n",
      "6\n",
      "Nodi: 10000, Collegamenti: 348677, Grado Medio: 70\n"
     ]
    },
    {
     "name": "stderr",
     "output_type": "stream",
     "text": [
      "Computing: 100%|███████████████████████████████████████████████████████████████████████| 20/20 [00:49<00:00,  2.46s/it]\n"
     ]
    },
    {
     "name": "stdout",
     "output_type": "stream",
     "text": [
      "Average time for flpa: 0.7403 seconds +- 0.0781.\n",
      "Average time for asyn. lpa: 0.7878 seconds +- 0.1417.\n",
      "Average time for syn. lpa: 0.9291 seconds +- 0.1199.\n",
      "7\n",
      "Nodi: 10000, Collegamenti: 399046, Grado Medio: 80\n"
     ]
    },
    {
     "name": "stderr",
     "output_type": "stream",
     "text": [
      "Computing: 100%|███████████████████████████████████████████████████████████████████████| 20/20 [00:54<00:00,  2.70s/it]\n"
     ]
    },
    {
     "name": "stdout",
     "output_type": "stream",
     "text": [
      "Average time for flpa: 0.8552 seconds +- 0.1617.\n",
      "Average time for asyn. lpa: 0.767 seconds +- 0.0584.\n",
      "Average time for syn. lpa: 1.0777 seconds +- 0.2213.\n",
      "8\n",
      "Nodi: 10000, Collegamenti: 449307, Grado Medio: 90\n"
     ]
    },
    {
     "name": "stderr",
     "output_type": "stream",
     "text": [
      "Computing: 100%|███████████████████████████████████████████████████████████████████████| 20/20 [00:59<00:00,  2.98s/it]\n"
     ]
    },
    {
     "name": "stdout",
     "output_type": "stream",
     "text": [
      "Average time for flpa: 0.9137 seconds +- 0.3814.\n",
      "Average time for asyn. lpa: 0.854 seconds +- 0.2176.\n",
      "Average time for syn. lpa: 1.213 seconds +- 0.2957.\n",
      "9\n",
      "Nodi: 10000, Collegamenti: 500632, Grado Medio: 100\n"
     ]
    },
    {
     "name": "stderr",
     "output_type": "stream",
     "text": [
      "Computing: 100%|███████████████████████████████████████████████████████████████████████| 20/20 [01:18<00:00,  3.90s/it]\n"
     ]
    },
    {
     "name": "stdout",
     "output_type": "stream",
     "text": [
      "Average time for flpa: 0.9784 seconds +- 0.2935.\n",
      "Average time for asyn. lpa: 1.038 seconds +- 0.3648.\n",
      "Average time for syn. lpa: 1.8836 seconds +- 0.4922.\n",
      "10\n",
      "Nodi: 10000, Collegamenti: 549547, Grado Medio: 110\n"
     ]
    },
    {
     "name": "stderr",
     "output_type": "stream",
     "text": [
      "Computing: 100%|███████████████████████████████████████████████████████████████████████| 20/20 [01:04<00:00,  3.23s/it]\n"
     ]
    },
    {
     "name": "stdout",
     "output_type": "stream",
     "text": [
      "Average time for flpa: 0.9164 seconds +- 0.138.\n",
      "Average time for asyn. lpa: 0.9556 seconds +- 0.0828.\n",
      "Average time for syn. lpa: 1.3611 seconds +- 0.1256.\n",
      "11\n",
      "Nodi: 10000, Collegamenti: 599352, Grado Medio: 120\n"
     ]
    },
    {
     "name": "stderr",
     "output_type": "stream",
     "text": [
      "Computing: 100%|███████████████████████████████████████████████████████████████████████| 20/20 [01:07<00:00,  3.38s/it]\n"
     ]
    },
    {
     "name": "stdout",
     "output_type": "stream",
     "text": [
      "Average time for flpa: 0.9018 seconds +- 0.1309.\n",
      "Average time for asyn. lpa: 0.9864 seconds +- 0.1218.\n",
      "Average time for syn. lpa: 1.492 seconds +- 0.2231.\n",
      "12\n",
      "Nodi: 10000, Collegamenti: 649063, Grado Medio: 130\n"
     ]
    },
    {
     "name": "stderr",
     "output_type": "stream",
     "text": [
      "Computing: 100%|███████████████████████████████████████████████████████████████████████| 20/20 [01:15<00:00,  3.75s/it]\n"
     ]
    },
    {
     "name": "stdout",
     "output_type": "stream",
     "text": [
      "Average time for flpa: 0.9835 seconds +- 0.1975.\n",
      "Average time for asyn. lpa: 1.13 seconds +- 0.2212.\n",
      "Average time for syn. lpa: 1.6386 seconds +- 0.2393.\n",
      "13\n",
      "Nodi: 10000, Collegamenti: 699724, Grado Medio: 140\n"
     ]
    },
    {
     "name": "stderr",
     "output_type": "stream",
     "text": [
      "Computing: 100%|███████████████████████████████████████████████████████████████████████| 20/20 [01:11<00:00,  3.57s/it]\n"
     ]
    },
    {
     "name": "stdout",
     "output_type": "stream",
     "text": [
      "Average time for flpa: 0.902 seconds +- 0.0798.\n",
      "Average time for asyn. lpa: 1.0628 seconds +- 0.1143.\n",
      "Average time for syn. lpa: 1.6087 seconds +- 0.2239.\n"
     ]
    },
    {
     "data": {
      "image/png": "[encoded data removed]",
      "text/plain": [
       "<Figure size 640x480 with 1 Axes>"
      ]
     },
     "metadata": {},
     "output_type": "display_data"
    }
   ],
   "source": [
    "#Plotting the computing times for the LPA asyn., LPA syn., FLPA on a ER synthetic network\n",
    "#with fixed number of nodes and increasing average degree\n",
    "\n",
    "import networkx as nx\n",
    "import matplotlib.pyplot as plt\n",
    "import timeit\n",
    "from tqdm import tqdm\n",
    "import numpy as np\n",
    "\n",
    "#Generating the synthetic ER networks\n",
    "def generate_er_graph(n, avg_degree):\n",
    "    p = avg_degree/(n-1)\n",
    "    G = nx.fast_gnp_random_graph(n,p) #faster than the erdos_renyi_graph function\n",
    "    return G\n",
    "\n",
    "#Parameters\n",
    "node_sizes = 10000\n",
    "avg_degree = [10,20,30,40,50,60,70,80,90,100,110,120,130,140]\n",
    "\n",
    "#Initializing the variables\n",
    "medium_t_flpa=[]\n",
    "medium_t_lpa_asyn=[]\n",
    "medium_t_lpa_syn=[]\n",
    "std_t_flpa=[]\n",
    "std_t_lpa_asyn=[]\n",
    "std_t_lpa_syn=[]\n",
    "j=0\n",
    "\n",
    "for n in avg_degree:\n",
    "    t_iterations_lpa_asyn=[]\n",
    "    t_iterations_lpa_syn=[]\n",
    "    t_iterations_flpa=[]\n",
    "    \n",
    "    G = generate_er_graph(node_sizes,n)\n",
    "    #Printing parameters of the created network\n",
    "    print(f\"Nodes: {node_sizes}, Edges: {G.number_of_edges()}, Average degree: {n}\")\n",
    "    \n",
    "    for i in tqdm(range(20), desc=\"Computing\"):\n",
    "        #Computing time for FLPA\n",
    "        start_time = timeit.default_timer() \n",
    "        communities_flpa=list(nx.community.fast_label_propagation_communities(G))\n",
    "        end_time = timeit.default_timer() \n",
    "        t_iteration = end_time - start_time\n",
    "        t_iterations_flpa.append(t_iteration)\n",
    "\n",
    "        #Computing time for asyn. LPA\n",
    "        start_time = timeit.default_timer() \n",
    "        communities_lpa_asyn = list(nx.community.asyn_lpa_communities(G))\n",
    "        end_time = timeit.default_timer() \n",
    "        tempo_iterazione = end_time - start_time  \n",
    "        t_iterations_lpa_asyn.append(tempo_iterazione)\n",
    "\n",
    "        #Computing time for syn. LPA\n",
    "        start_time = timeit.default_timer() \n",
    "        communities_lpa_syn = list(nx.community.label_propagation_communities(G))\n",
    "        end_time = timeit.default_timer() \n",
    "        tempo_iterazione = end_time - start_time  \n",
    "        t_iterations_lpa_syn.append(tempo_iterazione)\n",
    "\n",
    "    #Computing average and standard deviation for each algorithm\n",
    "    medium_t_flpa.append(np.mean(t_iterations_flpa))\n",
    "    std_t_flpa.append(np.std(t_iterations_flpa))\n",
    "    print(f\"Average time for flpa: {round(medium_t_flpa[j], 4)} seconds +- {round(std_t_flpa[j], 4)}.\")\n",
    "\n",
    "    medium_t_lpa_asyn.append(np.mean(t_iterations_lpa_asyn))\n",
    "    std_t_lpa_asyn.append(np.std(t_iterations_lpa_asyn))\n",
    "    print(f\"Average time for asyn. lpa: {round(medium_t_lpa_asyn[j], 4)} seconds +- {round(std_t_lpa_asyn[j], 4)}.\")\n",
    "\n",
    "    medium_t_lpa_syn.append(np.mean(t_iterations_lpa_syn))\n",
    "    std_t_lpa_syn.append(np.std(t_iterations_lpa_syn))\n",
    "    print(f\"Average time for syn. lpa: {round(medium_t_lpa_syn[j], 4)} seconds +- {round(std_t_lpa_syn[j], 4)}.\")\n",
    "    \n",
    "    j=j+1\n",
    "\n",
    "#Plotting the results\n",
    "plt.scatter(avg_degree, medium_t_flpa,color='blue', label='FLPA',s=10)\n",
    "plt.errorbar(avg_degree, medium_t_flpa,yerr=std_t_flpa,color='blue')\n",
    "plt.scatter(avg_degree, medium_t_lpa_asyn,color='red', label='Asyn. LPA',s=10)\n",
    "plt.errorbar(avg_degree, medium_t_lpa_asyn,yerr=std_t_lpa_asyn,color='red')\n",
    "plt.scatter(avg_degree, medium_t_lpa_syn,color='green', label='Syn. LPA', s=10)\n",
    "plt.errorbar(avg_degree, medium_t_lpa_syn,yerr=std_t_lpa_syn,color='green')\n",
    "\n",
    "plt.xlabel('average degree <k>')\n",
    "plt.ylabel('time (s)')\n",
    "plt.title(f'Erdos-Renyi with {node_sizes} nodes')\n",
    "plt.legend()\n",
    "plt.savefig(\"ER-graph.png\")\n",
    "plt.show()"
   ]
  },
  {
   "cell_type": "code",
   "execution_count": null,
   "id": "b879c207-1ffb-47d6-9584-882f7e721cc8",
   "metadata": {},
   "outputs": [],
   "source": []
  },
  {
   "cell_type": "code",
   "execution_count": null,
   "id": "82379050-c140-4de6-adab-aecb448c8cf2",
   "metadata": {},
   "outputs": [],
   "source": []
  }
 ],
 "metadata": {
  "kernelspec": {
   "display_name": "Python 3 (ipykernel)",
   "language": "python",
   "name": "python3"
  },
  "language_info": {
   "codemirror_mode": {
    "name": "ipython",
    "version": 3
   },
   "file_extension": ".py",
   "mimetype": "text/x-python",
   "name": "python",
   "nbconvert_exporter": "python",
   "pygments_lexer": "ipython3",
   "version": "3.12.3"
  }
 },
 "nbformat": 4,
 "nbformat_minor": 5
}
