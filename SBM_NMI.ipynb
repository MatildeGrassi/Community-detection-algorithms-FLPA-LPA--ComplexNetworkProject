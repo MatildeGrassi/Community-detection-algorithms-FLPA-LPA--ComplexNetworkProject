{
 "cells": [
  {
   "cell_type": "code",
   "execution_count": 1,
   "id": "012fe157-5ff0-4c32-a01e-2a9ba694a57f",
   "metadata": {},
   "outputs": [
    {
     "name": "stdout",
     "output_type": "stream",
     "text": [
      "Nodi: 10000, Collegamenti: 50056, Mixing parameter: 0.1, number of groups: 100\n"
     ]
    },
    {
     "name": "stderr",
     "output_type": "stream",
     "text": [
      "Computing: 100%|███████████████████████████████████████████████████████████████████████| 30/30 [01:02<00:00,  2.08s/it]\n"
     ]
    },
    {
     "name": "stdout",
     "output_type": "stream",
     "text": [
      "Nodi: 10000, Collegamenti: 50126, Mixing parameter: 0.2, number of groups: 100\n"
     ]
    },
    {
     "name": "stderr",
     "output_type": "stream",
     "text": [
      "Computing: 100%|███████████████████████████████████████████████████████████████████████| 30/30 [01:16<00:00,  2.56s/it]\n"
     ]
    },
    {
     "name": "stdout",
     "output_type": "stream",
     "text": [
      "Nodi: 10000, Collegamenti: 49980, Mixing parameter: 0.3, number of groups: 100\n"
     ]
    },
    {
     "name": "stderr",
     "output_type": "stream",
     "text": [
      "Computing:  60%|██████████████████████████████████████████▌                            | 18/30 [00:59<00:39,  3.33s/it]\n"
     ]
    },
    {
     "ename": "KeyboardInterrupt",
     "evalue": "",
     "output_type": "error",
     "traceback": [
      "\u001b[1;31m---------------------------------------------------------------------------\u001b[0m",
      "\u001b[1;31mKeyboardInterrupt\u001b[0m                         Traceback (most recent call last)",
      "Cell \u001b[1;32mIn[1], line 64\u001b[0m\n\u001b[0;32m     61\u001b[0m NMI_lpa_syn\u001b[38;5;241m=\u001b[39m[]\n\u001b[0;32m     62\u001b[0m \u001b[38;5;28;01mfor\u001b[39;00m k \u001b[38;5;129;01min\u001b[39;00m tqdm(\u001b[38;5;28mrange\u001b[39m(\u001b[38;5;241m30\u001b[39m), desc\u001b[38;5;241m=\u001b[39m\u001b[38;5;124m\"\u001b[39m\u001b[38;5;124mComputing\u001b[39m\u001b[38;5;124m\"\u001b[39m):\n\u001b[0;32m     63\u001b[0m     \u001b[38;5;66;03m#Computing the communities for each algorithm\u001b[39;00m\n\u001b[1;32m---> 64\u001b[0m     communities_lpa_asyn \u001b[38;5;241m=\u001b[39m \u001b[38;5;28mlist\u001b[39m(nx\u001b[38;5;241m.\u001b[39mcommunity\u001b[38;5;241m.\u001b[39masyn_lpa_communities(G))\n\u001b[0;32m     65\u001b[0m     communities_flpa\u001b[38;5;241m=\u001b[39m\u001b[38;5;28mlist\u001b[39m(nx\u001b[38;5;241m.\u001b[39mcommunity\u001b[38;5;241m.\u001b[39mfast_label_propagation_communities(G))\n\u001b[0;32m     66\u001b[0m     communities_lpa_syn \u001b[38;5;241m=\u001b[39m \u001b[38;5;28mlist\u001b[39m(nx\u001b[38;5;241m.\u001b[39mcommunity\u001b[38;5;241m.\u001b[39mlabel_propagation_communities(G))\n",
      "File \u001b[1;32m~\\anaconda3\\envs\\env312\\Lib\\site-packages\\networkx\\algorithms\\community\\label_propagation.py:210\u001b[0m, in \u001b[0;36masyn_lpa_communities\u001b[1;34m(G, weight, seed)\u001b[0m\n\u001b[0;32m    203\u001b[0m \u001b[38;5;66;03m# Get label frequencies among adjacent nodes.\u001b[39;00m\n\u001b[0;32m    204\u001b[0m \u001b[38;5;66;03m# Depending on the order they are processed in,\u001b[39;00m\n\u001b[0;32m    205\u001b[0m \u001b[38;5;66;03m# some nodes will be in iteration t and others in t-1,\u001b[39;00m\n\u001b[0;32m    206\u001b[0m \u001b[38;5;66;03m# making the algorithm asynchronous.\u001b[39;00m\n\u001b[0;32m    207\u001b[0m \u001b[38;5;28;01mif\u001b[39;00m weight \u001b[38;5;129;01mis\u001b[39;00m \u001b[38;5;28;01mNone\u001b[39;00m:\n\u001b[0;32m    208\u001b[0m     \u001b[38;5;66;03m# initialising a Counter from an iterator of labels is\u001b[39;00m\n\u001b[0;32m    209\u001b[0m     \u001b[38;5;66;03m# faster for getting unweighted label frequencies\u001b[39;00m\n\u001b[1;32m--> 210\u001b[0m     label_freq \u001b[38;5;241m=\u001b[39m Counter(\u001b[38;5;28mmap\u001b[39m(labels\u001b[38;5;241m.\u001b[39mget, G[node]))\n\u001b[0;32m    211\u001b[0m \u001b[38;5;28;01melse\u001b[39;00m:\n\u001b[0;32m    212\u001b[0m     \u001b[38;5;66;03m# updating a defaultdict is substantially faster\u001b[39;00m\n\u001b[0;32m    213\u001b[0m     \u001b[38;5;66;03m# for getting weighted label frequencies\u001b[39;00m\n\u001b[0;32m    214\u001b[0m     label_freq \u001b[38;5;241m=\u001b[39m defaultdict(\u001b[38;5;28mfloat\u001b[39m)\n",
      "File \u001b[1;32m~\\anaconda3\\envs\\env312\\Lib\\site-packages\\networkx\\classes\\graph.py:515\u001b[0m, in \u001b[0;36mGraph.__getitem__\u001b[1;34m(self, n)\u001b[0m\n\u001b[0;32m    491\u001b[0m \u001b[38;5;28;01mdef\u001b[39;00m \u001b[38;5;21m__getitem__\u001b[39m(\u001b[38;5;28mself\u001b[39m, n):\n\u001b[0;32m    492\u001b[0m \u001b[38;5;250m    \u001b[39m\u001b[38;5;124;03m\"\"\"Returns a dict of neighbors of node n.  Use: 'G[n]'.\u001b[39;00m\n\u001b[0;32m    493\u001b[0m \n\u001b[0;32m    494\u001b[0m \u001b[38;5;124;03m    Parameters\u001b[39;00m\n\u001b[1;32m   (...)\u001b[0m\n\u001b[0;32m    513\u001b[0m \u001b[38;5;124;03m    AtlasView({1: {}})\u001b[39;00m\n\u001b[0;32m    514\u001b[0m \u001b[38;5;124;03m    \"\"\"\u001b[39;00m\n\u001b[1;32m--> 515\u001b[0m     \u001b[38;5;28;01mreturn\u001b[39;00m \u001b[38;5;28mself\u001b[39m\u001b[38;5;241m.\u001b[39madj[n]\n",
      "File \u001b[1;32m~\\anaconda3\\envs\\env312\\Lib\\site-packages\\networkx\\classes\\coreviews.py:81\u001b[0m, in \u001b[0;36mAdjacencyView.__getitem__\u001b[1;34m(self, name)\u001b[0m\n\u001b[0;32m     80\u001b[0m \u001b[38;5;28;01mdef\u001b[39;00m \u001b[38;5;21m__getitem__\u001b[39m(\u001b[38;5;28mself\u001b[39m, name):\n\u001b[1;32m---> 81\u001b[0m     \u001b[38;5;28;01mreturn\u001b[39;00m AtlasView(\u001b[38;5;28mself\u001b[39m\u001b[38;5;241m.\u001b[39m_atlas[name])\n",
      "File \u001b[1;32m~\\anaconda3\\envs\\env312\\Lib\\site-packages\\networkx\\classes\\coreviews.py:43\u001b[0m, in \u001b[0;36mAtlasView.__init__\u001b[1;34m(self, d)\u001b[0m\n\u001b[0;32m     40\u001b[0m \u001b[38;5;28;01mdef\u001b[39;00m \u001b[38;5;21m__setstate__\u001b[39m(\u001b[38;5;28mself\u001b[39m, state):\n\u001b[0;32m     41\u001b[0m     \u001b[38;5;28mself\u001b[39m\u001b[38;5;241m.\u001b[39m_atlas \u001b[38;5;241m=\u001b[39m state[\u001b[38;5;124m\"\u001b[39m\u001b[38;5;124m_atlas\u001b[39m\u001b[38;5;124m\"\u001b[39m]\n\u001b[1;32m---> 43\u001b[0m \u001b[38;5;28;01mdef\u001b[39;00m \u001b[38;5;21m__init__\u001b[39m(\u001b[38;5;28mself\u001b[39m, d):\n\u001b[0;32m     44\u001b[0m     \u001b[38;5;28mself\u001b[39m\u001b[38;5;241m.\u001b[39m_atlas \u001b[38;5;241m=\u001b[39m d\n\u001b[0;32m     46\u001b[0m \u001b[38;5;28;01mdef\u001b[39;00m \u001b[38;5;21m__len__\u001b[39m(\u001b[38;5;28mself\u001b[39m):\n",
      "\u001b[1;31mKeyboardInterrupt\u001b[0m: "
     ]
    }
   ],
   "source": [
    "#Plotting the NMI for the LPA asyn., LPA syn., FLPA of a SBM synthetic network\n",
    "#with increasing mixing parameter and fixed number of nodes, number of groups, average degree.\n",
    "\n",
    "import numpy as np\n",
    "import networkx as nx\n",
    "import matplotlib.pyplot as plt\n",
    "from sklearn.metrics import normalized_mutual_info_score\n",
    "from tqdm import tqdm\n",
    "\n",
    "#Creating the SBM networks\n",
    "def create_sbm(num_nodes, num_groups, avg_degree, mu):\n",
    "    #Number of nodes per group\n",
    "    nodes_per_group = num_nodes // num_groups\n",
    "    sizes = [nodes_per_group] * num_groups\n",
    "    \n",
    "    remainder = num_nodes % num_groups\n",
    "    for i in range(remainder):\n",
    "        sizes[i] += 1\n",
    "\n",
    "    p_in = ((1 - mu) * avg_degree) / (nodes_per_group - 1)  #Probability within a group\n",
    "    p_out = (mu * avg_degree) / (num_nodes - nodes_per_group)  #Probability between groups\n",
    "\n",
    "    #Creating the probability matrix\n",
    "    probs = np.full((num_groups, num_groups), p_out)\n",
    "    np.fill_diagonal(probs, p_in)  \n",
    "    \n",
    "    #Generating the SBM network\n",
    "    G = nx.stochastic_block_model(sizes, probs, seed=42)\n",
    "    \n",
    "    return G  \n",
    "\n",
    "\n",
    "#Parameters\n",
    "n= 10000\n",
    "num_groups = 100\n",
    "avg_degree = 10\n",
    "mu_v = [0.1,0.2,0.3,0.4,0.5,0.6,0.7,0.9]\n",
    "\n",
    "#Initializing the variables\n",
    "group_sizes=int(n/num_groups)\n",
    "NMI_flpa_av=[]\n",
    "NMI_lpa_asyn_av=[]\n",
    "NMI_lpa_syn_av=[]\n",
    "std_NMI_flpa=[]\n",
    "std_NMI_lpa_asyn=[]\n",
    "std_NMI_lpa_syn=[]\n",
    "h=0\n",
    "\n",
    "for mu in mu_v:\n",
    "    G = create_sbm(n, num_groups, avg_degree, mu)\n",
    "    #Printing parameters of the created network\n",
    "    print(f\"Nodes: {n}, Edges: {G.number_of_edges()}, Mixing parameter: {mu}, Number of groups: {num_groups}\")\n",
    "    \n",
    "    #true labels of the SBM\n",
    "    true_labels=[]\n",
    "    for i in range(num_groups):\n",
    "        true_labels.extend([i] * group_sizes)\n",
    "\n",
    "    NMI_flpa=[]\n",
    "    NMI_lpa_asyn=[]\n",
    "    NMI_lpa_syn=[]\n",
    "    for k in tqdm(range(30), desc=\"Computing\"):\n",
    "        #Computing the communities for each algorithm\n",
    "        communities_lpa_asyn = list(nx.community.asyn_lpa_communities(G))\n",
    "        communities_flpa=list(nx.community.fast_label_propagation_communities(G))\n",
    "        communities_lpa_syn = list(nx.community.label_propagation_communities(G))\n",
    "        nodes = list(G.nodes())\n",
    "        \n",
    "        #Creating a dictionary to map nodes to the communities for each algorithm\n",
    "        community_labels_lpa_asyn = {}\n",
    "        for j, community in enumerate(communities_lpa_asyn):\n",
    "            for node in community:\n",
    "                community_labels_lpa_asyn[node] = j \n",
    "        pred_labels_lpa_asyn = [community_labels_lpa_asyn[node] for node in nodes]\n",
    "    \n",
    "        community_labels_lpa_syn = {}\n",
    "        for j, community in enumerate(communities_lpa_syn):\n",
    "            for node in community:\n",
    "                community_labels_lpa_syn[node] = j \n",
    "        pred_labels_lpa_syn = [community_labels_lpa_syn[node] for node in nodes]\n",
    "                \n",
    "        community_labels_flpa = {}\n",
    "        for j, community in enumerate(communities_flpa):\n",
    "            for node in community:\n",
    "                community_labels_flpa[node] = j \n",
    "        pred_labels_flpa = [community_labels_flpa[node] for node in nodes]\n",
    "    \n",
    "        NMI_flpa.append(normalized_mutual_info_score(true_labels,pred_labels_flpa))\n",
    "        NMI_lpa_asyn.append(normalized_mutual_info_score(true_labels,pred_labels_lpa_asyn))\n",
    "        NMI_lpa_syn.append(normalized_mutual_info_score(true_labels,pred_labels_lpa_syn))\n",
    "\n",
    "    #Computing averages and standard deviations for each algorithm\n",
    "    NMI_flpa_av.append(np.mean(NMI_flpa))\n",
    "    NMI_lpa_asyn_av.append(np.mean(NMI_lpa_asyn))\n",
    "    NMI_lpa_syn_av.append(np.mean(NMI_lpa_syn))\n",
    "    std_NMI_flpa.append(np.std(NMI_flpa))\n",
    "    std_NMI_lpa_syn.append(np.std(NMI_lpa_syn))\n",
    "    std_NMI_lpa_asyn.append(np.std(NMI_lpa_asyn))\n",
    "    \n",
    "    h=h+1\n",
    "\n",
    "#Plotting the results\n",
    "plt.scatter(mu_v, NMI_flpa_av,color='blue', label='FLPA',s=10)\n",
    "plt.plot(mu_v, NMI_flpa_av,linestyle='-',color='blue')\n",
    "plt.scatter(mu_v, NMI_lpa_asyn_av,color='red', label='Asyn. LPA',s=10)\n",
    "plt.plot(mu_v, NMI_lpa_asyn_av,linestyle='-',color='red')\n",
    "plt.scatter(mu_v, NMI_lpa_syn_av,color='green', label='Syn. LPA', s=10)\n",
    "plt.plot(mu_v, NMI_lpa_syn_av,linestyle='-',color='green')\n",
    "\n",
    "plt.xlabel('mixing parameter')\n",
    "plt.ylabel('Normalized Mutual Information')\n",
    "plt.title(f'SBM with {n} nodes')\n",
    "plt.legend()\n",
    "plt.savefig(\"SBM_NMI.png\")\n",
    "plt.show()"
   ]
  },
  {
   "cell_type": "code",
   "execution_count": null,
   "id": "f12eb9b5-5128-4ba4-aae0-6ca9e3ce9e25",
   "metadata": {},
   "outputs": [],
   "source": []
  }
 ],
 "metadata": {
  "kernelspec": {
   "display_name": "Python 3 (ipykernel)",
   "language": "python",
   "name": "python3"
  },
  "language_info": {
   "codemirror_mode": {
    "name": "ipython",
    "version": 3
   },
   "file_extension": ".py",
   "mimetype": "text/x-python",
   "name": "python",
   "nbconvert_exporter": "python",
   "pygments_lexer": "ipython3",
   "version": "3.12.3"
  }
 },
 "nbformat": 4,
 "nbformat_minor": 5
}
