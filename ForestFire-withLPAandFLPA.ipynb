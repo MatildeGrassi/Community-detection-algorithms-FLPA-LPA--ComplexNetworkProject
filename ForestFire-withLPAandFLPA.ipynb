{
 "cells": [
  {
   "cell_type": "code",
   "execution_count": 1,
   "id": "1e0147d9-99f5-44dc-9c4b-9757e01ce6e3",
   "metadata": {},
   "outputs": [
    {
     "name": "stdout",
     "output_type": "stream",
     "text": [
      "0\n",
      "Creando un Forest Fire network con 20000 nodi...\n",
      "Nodi: 20000, Collegamenti: 108036, Burning probability: 0.5\n"
     ]
    },
    {
     "name": "stderr",
     "output_type": "stream",
     "text": [
      "Computing: 100%|███████████████████████████████████████████████████████████████████████| 20/20 [01:21<00:00,  4.06s/it]\n"
     ]
    },
    {
     "name": "stdout",
     "output_type": "stream",
     "text": [
      "Average time for flpa: 0.4213 seconds +- 0.0458.\n",
      "Average time for asyn. lpa: 1.682 seconds +- 0.354.\n",
      "Average time for syn. lpa: 1.9586 seconds +- 0.0971.\n",
      "1\n",
      "Creando un Forest Fire network con 30000 nodi...\n",
      "Nodi: 30000, Collegamenti: 166080, Burning probability: 0.5\n"
     ]
    },
    {
     "name": "stderr",
     "output_type": "stream",
     "text": [
      "Computing: 100%|███████████████████████████████████████████████████████████████████████| 20/20 [01:57<00:00,  5.86s/it]\n"
     ]
    },
    {
     "name": "stdout",
     "output_type": "stream",
     "text": [
      "Average time for flpa: 0.6521 seconds +- 0.0502.\n",
      "Average time for asyn. lpa: 2.6992 seconds +- 0.4812.\n",
      "Average time for syn. lpa: 2.5119 seconds +- 0.046.\n",
      "2\n",
      "Creando un Forest Fire network con 40000 nodi...\n",
      "Nodi: 40000, Collegamenti: 245993, Burning probability: 0.5\n"
     ]
    },
    {
     "name": "stderr",
     "output_type": "stream",
     "text": [
      "Computing: 100%|███████████████████████████████████████████████████████████████████████| 20/20 [03:03<00:00,  9.19s/it]\n"
     ]
    },
    {
     "name": "stdout",
     "output_type": "stream",
     "text": [
      "Average time for flpa: 0.9109 seconds +- 0.1014.\n",
      "Average time for asyn. lpa: 4.1997 seconds +- 0.7786.\n",
      "Average time for syn. lpa: 4.0741 seconds +- 0.1335.\n",
      "3\n",
      "Creando un Forest Fire network con 50000 nodi...\n",
      "Nodi: 50000, Collegamenti: 340551, Burning probability: 0.5\n"
     ]
    },
    {
     "name": "stderr",
     "output_type": "stream",
     "text": [
      "Computing: 100%|███████████████████████████████████████████████████████████████████████| 20/20 [03:38<00:00, 10.93s/it]\n"
     ]
    },
    {
     "name": "stdout",
     "output_type": "stream",
     "text": [
      "Average time for flpa: 1.225 seconds +- 0.1426.\n",
      "Average time for asyn. lpa: 5.2968 seconds +- 1.1929.\n",
      "Average time for syn. lpa: 4.4115 seconds +- 0.1083.\n",
      "4\n",
      "Creando un Forest Fire network con 60000 nodi...\n",
      "Nodi: 60000, Collegamenti: 382227, Burning probability: 0.5\n"
     ]
    },
    {
     "name": "stderr",
     "output_type": "stream",
     "text": [
      "Computing: 100%|███████████████████████████████████████████████████████████████████████| 20/20 [04:34<00:00, 13.72s/it]\n"
     ]
    },
    {
     "name": "stdout",
     "output_type": "stream",
     "text": [
      "Average time for flpa: 1.5675 seconds +- 0.1273.\n",
      "Average time for asyn. lpa: 6.6824 seconds +- 1.4414.\n",
      "Average time for syn. lpa: 5.4717 seconds +- 0.1436.\n",
      "5\n",
      "Creando un Forest Fire network con 70000 nodi...\n",
      "Nodi: 70000, Collegamenti: 459110, Burning probability: 0.5\n"
     ]
    },
    {
     "name": "stderr",
     "output_type": "stream",
     "text": [
      "Computing: 100%|███████████████████████████████████████████████████████████████████████| 20/20 [05:29<00:00, 16.47s/it]\n"
     ]
    },
    {
     "name": "stdout",
     "output_type": "stream",
     "text": [
      "Average time for flpa: 1.806 seconds +- 0.1503.\n",
      "Average time for asyn. lpa: 7.7661 seconds +- 1.2727.\n",
      "Average time for syn. lpa: 6.8963 seconds +- 0.1476.\n",
      "6\n",
      "Creando un Forest Fire network con 80000 nodi...\n",
      "Nodi: 80000, Collegamenti: 627290, Burning probability: 0.5\n"
     ]
    },
    {
     "name": "stderr",
     "output_type": "stream",
     "text": [
      "Computing: 100%|███████████████████████████████████████████████████████████████████████| 20/20 [07:06<00:00, 21.33s/it]\n"
     ]
    },
    {
     "name": "stdout",
     "output_type": "stream",
     "text": [
      "Average time for flpa: 2.295 seconds +- 0.3026.\n",
      "Average time for asyn. lpa: 9.7045 seconds +- 1.9683.\n",
      "Average time for syn. lpa: 9.3307 seconds +- 0.1857.\n",
      "7\n",
      "Creando un Forest Fire network con 90000 nodi...\n",
      "Nodi: 90000, Collegamenti: 627796, Burning probability: 0.5\n"
     ]
    },
    {
     "name": "stderr",
     "output_type": "stream",
     "text": [
      "Computing: 100%|███████████████████████████████████████████████████████████████████████| 20/20 [07:38<00:00, 22.91s/it]\n"
     ]
    },
    {
     "name": "stdout",
     "output_type": "stream",
     "text": [
      "Average time for flpa: 2.6334 seconds +- 0.2393.\n",
      "Average time for asyn. lpa: 10.8771 seconds +- 2.2896.\n",
      "Average time for syn. lpa: 9.3952 seconds +- 0.4949.\n",
      "8\n",
      "Creando un Forest Fire network con 100000 nodi...\n",
      "Nodi: 100000, Collegamenti: 778799, Burning probability: 0.5\n"
     ]
    },
    {
     "name": "stderr",
     "output_type": "stream",
     "text": [
      "Computing: 100%|███████████████████████████████████████████████████████████████████████| 20/20 [09:26<00:00, 28.35s/it]\n"
     ]
    },
    {
     "name": "stdout",
     "output_type": "stream",
     "text": [
      "Average time for flpa: 3.0908 seconds +- 0.332.\n",
      "Average time for asyn. lpa: 12.144 seconds +- 1.8452.\n",
      "Average time for syn. lpa: 13.1129 seconds +- 0.2738.\n"
     ]
    },
    {
     "data": {
      "image/png": "[encoded data removed]",
      "text/plain": [
       "<Figure size 640x480 with 1 Axes>"
      ]
     },
     "metadata": {},
     "output_type": "display_data"
    }
   ],
   "source": [
    "#Plotting the computing times for the LPA asyn., LPA syn., FLPA on a Forest Fire synthetic network\n",
    "#with increasing number of nodes and fixed burning probability\n",
    "\n",
    "import random\n",
    "import networkx as nx\n",
    "import matplotlib.pyplot as plt\n",
    "import timeit\n",
    "from tqdm import tqdm\n",
    "import numpy as np\n",
    "\n",
    "##Generating the synthetic Forest Fire networks\n",
    "def forest_fire_graph(n, burning_prob):\n",
    "    G = nx.DiGraph()  \n",
    "    G.add_node(0)  # Initialize the first node\n",
    "\n",
    "    for new_node in range(1, n):\n",
    "        # Choosing a random node to start the \"fire\"\n",
    "        ambassador = random.choice(list(G.nodes))\n",
    "        G.add_node(new_node)\n",
    "        G.add_edge(new_node, ambassador)\n",
    "        \n",
    "        #Propagating the fire with a burning probability\n",
    "        frontier = [ambassador]\n",
    "        while frontier:\n",
    "            next_frontier = []\n",
    "            for node in frontier:\n",
    "                neighbors = list(G.neighbors(node))\n",
    "                random.shuffle(neighbors)\n",
    "                for neighbor in neighbors:\n",
    "                    if random.random() < burning_prob:\n",
    "                        G.add_edge(new_node, neighbor)\n",
    "                        next_frontier.append(neighbor)\n",
    "            frontier = next_frontier\n",
    "    return G\n",
    "\n",
    "#Parameters\n",
    "burning_prob = 0.5  \n",
    "node_counts = [20000,30000, 40000,50000, 60000,70000, 80000,90000, 100000]  \n",
    "\n",
    "#Initializing variables\n",
    "medium_t_flpa=[]\n",
    "medium_t_lpa_asyn=[]\n",
    "medium_t_lpa_syn=[]\n",
    "std_t_flpa=[]\n",
    "std_t_lpa_asyn=[]\n",
    "std_t_lpa_syn=[]\n",
    "j=0\n",
    "\n",
    "for n in node_counts:\n",
    "    t_iterations_lpa_asyn=[]\n",
    "    t_iterations_lpa_syn=[]\n",
    "    t_iterations_flpa=[]\n",
    "\n",
    "    G_d = forest_fire_graph(n, burning_prob)\n",
    "    G = G_d.to_undirected()\n",
    "    #Printing parameters of the created network\n",
    "    print(f\"Nodes: {n}, Edges: {G.number_of_edges()}, Burning probability: {burning_prob }\")\n",
    "\n",
    "    for i in tqdm(range(20), desc=\"Computing\"):\n",
    "        #Computing time for FLPA\n",
    "        start_time = timeit.default_timer() \n",
    "        communities_flpa=list(nx.community.fast_label_propagation_communities(G))\n",
    "        end_time = timeit.default_timer() \n",
    "        t_iteration = end_time - start_time\n",
    "        t_iterations_flpa.append(t_iteration)\n",
    "\n",
    "        #Computing time for asyn. LPA\n",
    "        start_time = timeit.default_timer() \n",
    "        communities_lpa_asyn = list(nx.community.asyn_lpa_communities(G))\n",
    "        end_time = timeit.default_timer() \n",
    "        tempo_iterazione = end_time - start_time  \n",
    "        t_iterations_lpa_asyn.append(tempo_iterazione)\n",
    "\n",
    "        #Computing time for syn. LPA\n",
    "        start_time = timeit.default_timer() \n",
    "        communities_lpa_syn = list(nx.community.label_propagation_communities(G))\n",
    "        end_time = timeit.default_timer() \n",
    "        tempo_iterazione = end_time - start_time  \n",
    "        t_iterations_lpa_syn.append(tempo_iterazione)\n",
    "\n",
    "    #Computing average and standard deviation for each algorithm\n",
    "    medium_t_flpa.append(np.mean(t_iterations_flpa))\n",
    "    std_t_flpa.append(np.std(t_iterations_flpa))\n",
    "    print(f\"Average time for flpa: {round(medium_t_flpa[j], 4)} seconds +- {round(std_t_flpa[j], 4)}.\")\n",
    "\n",
    "    medium_t_lpa_asyn.append(np.mean(t_iterations_lpa_asyn))\n",
    "    std_t_lpa_asyn.append(np.std(t_iterations_lpa_asyn))\n",
    "    print(f\"Average time for asyn. lpa: {round(medium_t_lpa_asyn[j], 4)} seconds +- {round(std_t_lpa_asyn[j], 4)}.\")\n",
    "\n",
    "    medium_t_lpa_syn.append(np.mean(t_iterations_lpa_syn))\n",
    "    std_t_lpa_syn.append(np.std(t_iterations_lpa_syn))\n",
    "    print(f\"Average time for syn. lpa: {round(medium_t_lpa_syn[j], 4)} seconds +- {round(std_t_lpa_syn[j], 4)}.\")\n",
    "    \n",
    "    j=j+1\n",
    "\n",
    "#Plotting the results\n",
    "plt.scatter(node_counts, medium_t_flpa,color='blue', label='FLPA',s=10)\n",
    "plt.errorbar(node_counts, medium_t_flpa,yerr=std_t_flpa,color='blue')\n",
    "plt.scatter(node_counts, medium_t_lpa_asyn,color='red', label='Asyn. LPA',s=10)\n",
    "plt.errorbar(node_counts, medium_t_lpa_asyn,yerr=std_t_lpa_asyn,color='red')\n",
    "plt.scatter(node_counts, medium_t_lpa_syn,color='green', label='Syn. LPA', s=10)\n",
    "plt.errorbar(node_counts, medium_t_lpa_syn,yerr=std_t_lpa_syn,color='green')\n",
    "\n",
    "plt.xlabel('Nodes n')\n",
    "plt.ylabel('time (s)')\n",
    "plt.title('Forest Fire')\n",
    "plt.legend()\n",
    "plt.savefig(\"ForestFire.png\")\n",
    "plt.show()"
   ]
  },
  {
   "cell_type": "code",
   "execution_count": null,
   "id": "f15f8b7a-822b-49e5-a4c7-890631dd4e61",
   "metadata": {},
   "outputs": [],
   "source": []
  }
 ],
 "metadata": {
  "kernelspec": {
   "display_name": "Python 3 (ipykernel)",
   "language": "python",
   "name": "python3"
  },
  "language_info": {
   "codemirror_mode": {
    "name": "ipython",
    "version": 3
   },
   "file_extension": ".py",
   "mimetype": "text/x-python",
   "name": "python",
   "nbconvert_exporter": "python",
   "pygments_lexer": "ipython3",
   "version": "3.12.3"
  }
 },
 "nbformat": 4,
 "nbformat_minor": 5
}
